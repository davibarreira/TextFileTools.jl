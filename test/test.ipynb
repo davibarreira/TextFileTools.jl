{
 "cells": [
  {
   "cell_type": "code",
   "execution_count": 27,
   "id": "f8f5f374-5015-4ab3-8b5c-c7749e9ee1ee",
   "metadata": {},
   "outputs": [
    {
     "name": "stderr",
     "output_type": "stream",
     "text": [
      "\u001b[32m\u001b[1m  Activating\u001b[22m\u001b[39m environment at `~/MEGA/EMAp/TextFileTools.jl/Project.toml`\n"
     ]
    }
   ],
   "source": [
    "using Pkg\n",
    "Pkg.activate(\"../.\")\n",
    "using Revise\n",
    "using BenchmarkTools\n",
    "using TextFileTools"
   ]
  },
  {
   "cell_type": "code",
   "execution_count": 54,
   "id": "038d895a-246e-47d1-aed2-96091f71780b",
   "metadata": {},
   "outputs": [
    {
     "data": {
      "text/plain": [
       "\"test.tex\""
      ]
     },
     "execution_count": 54,
     "metadata": {},
     "output_type": "execute_result"
    }
   ],
   "source": [
    "# svg = read(\"test.svg\",String)\n",
    "# display(\"image/svg+xml\",svg)"
   ]
  },
  {
   "cell_type": "code",
   "execution_count": 64,
   "id": "7cfef181-0276-4982-ba19-bcd3d62b0470",
   "metadata": {},
   "outputs": [
    {
     "name": "stdout",
     "output_type": "stream",
     "text": [
      "Insert This\n",
      "Insert This now\n",
      "%! TeX program = lualatexTHIS EXTRA COMMENT\n",
      "\\documentclass[12pt, oneside]{book}\n",
      "\n",
      "\\usepackage{listings}\n",
      "\n",
      "\\pagestyle{plain}\n",
      "\\usepackage{pdfpages}\n",
      "\\usepackage{titlesec}\n",
      "\n",
      "\\usepackage[square,numbers]{natbib}\n",
      "\\usepackage[pdftex,bookmarks=true,bookmarksopen=false,bookmarksnumbered=true,colorlinks=true,linkcolor=blue]{hyperref}\n",
      "\\usepackage[utf8]{inputenc}\n",
      "\\usepackage{float}\n",
      "\\usepackage{enumerate}\n",
      "\n",
      "%%%%%%% JULIA %%%%%%%%%%\n",
      "\\input{julia_font}\n",
      "\\input{julia_listings}\n",
      "\\input{julia_listings}\n",
      "\\input{julia_listings_unicode}\n",
      "\n",
      "\\lstdefinelanguage{JuliaLocal}{\n",
      "    language = Julia, % inherit Julia lang. to add keywords\n",
      "    morekeywords = [3]{thompson_sampling}, % define more functions\n",
      "    morekeywords = [2]{Beta, Distributions}, % define more types and modules\n",
      "}\n",
      "%%%%%%%%%%%%%%%%%%%%%%%%\n",
      "\n",
      "\n",
      "%%%%%%%%%% BOOK INFORMATION %%%%%%%%%%\n",
      "\\newcommand{\\authorname}{Name}\n",
      "\\newcommand{\\booktitle}{Title}\n",
      "\\newcommand{\\subtitle}{Subtitle}\n",
      "\\newcommand{\\publisher}{TBD}\n",
      "\\newcommand{\\editionyear}{2021}\n",
      "\\newcommand{\\isbn}{XYZ}   % replace this with your own ISBN\n",
      "\n",
      "\\title{\\booktitle}\n",
      "\\author{\\authorname}\n",
      "\n",
      "%%%%%%%%%%%%%%%%%%%%%%%%%%%%%%%%%%%%%%\n",
      "\n",
      "\n",
      "\\begin{document}\n",
      "\n",
      "% \\includepdf{cover.pdf}\n",
      "\n",
      "\\frontmatter\n",
      "\\input{frontmatter/titlepage}\n",
      "\\input{frontmatter/copyright}\n",
      "% \\include{preface}\n",
      "\n",
      "\\newpage\n",
      "\\tableofcontents\n",
      "\n",
      "\\mainmatter\n",
      "\\newpage\n",
      "% INCLUDE NOTEBOOKS HERE %\n",
      "\\include{./notebooks/examplepluto}\n",
      "\n",
      "\\bibliography{ref}\n",
      "\n",
      "\\bibliographystyle{plainnat}\n",
      "\n",
      "\\include{appendix}\n",
      "\n",
      "\\end{document}\n",
      "Insert This now\n",
      "\n"
     ]
    }
   ],
   "source": [
    "rm(\"test.tex\")\n",
    "cp(\"testbackup.tex\", \"test.tex\")\n",
    "insertline(\"test.tex\",\"Insert This\", 1, method=:above)\n",
    "insertline(\"test.tex\",\"Insert This now\", 1, method=:below)\n",
    "insertline(\"test.tex\",\"ADD LINE AT \", :last)\n",
    "writetext(\"test.tex\",\"THIS EXTRA COMMENT\",3, Inf)\n",
    "tex = read(\"test.tex\",String)\n",
    "println(tex)"
   ]
  },
  {
   "cell_type": "code",
   "execution_count": 7,
   "id": "8bc10e71-aa84-42bb-a3bb-4fbdc9202b20",
   "metadata": {},
   "outputs": [
    {
     "name": "stdout",
     "output_type": "stream",
     "text": [
      "  5.800 μs (13 allocations: 8.91 KiB)\n"
     ]
    },
    {
     "data": {
      "text/plain": [
       "67"
      ]
     },
     "execution_count": 7,
     "metadata": {},
     "output_type": "execute_result"
    }
   ],
   "source": [
    "@btime countlines(\"test.tex\")"
   ]
  },
  {
   "cell_type": "code",
   "execution_count": 15,
   "id": "6bbc2de4-5f48-467f-a377-2d520db6c875",
   "metadata": {},
   "outputs": [
    {
     "data": {
      "text/plain": [
       "44"
      ]
     },
     "execution_count": 15,
     "metadata": {},
     "output_type": "execute_result"
    }
   ],
   "source": [
    "small = read(\"small.txt\", String)\n",
    "length(small)"
   ]
  },
  {
   "cell_type": "code",
   "execution_count": 18,
   "id": "748328f3-ef6e-4431-8781-bbe98d8727f6",
   "metadata": {},
   "outputs": [
    {
     "data": {
      "text/plain": [
       "44"
      ]
     },
     "execution_count": 18,
     "metadata": {},
     "output_type": "execute_result"
    }
   ],
   "source": [
    "length(read(\"small.txt\", String))"
   ]
  }
 ],
 "metadata": {
  "kernelspec": {
   "display_name": "JuliaFlux 1.6.3",
   "language": "julia",
   "name": "juliaflux-1.6"
  },
  "language_info": {
   "file_extension": ".jl",
   "mimetype": "application/julia",
   "name": "julia",
   "version": "1.6.3"
  }
 },
 "nbformat": 4,
 "nbformat_minor": 5
}
