{
 "cells": [
  {
   "cell_type": "code",
   "execution_count": 1,
   "id": "f8f5f374-5015-4ab3-8b5c-c7749e9ee1ee",
   "metadata": {},
   "outputs": [
    {
     "name": "stderr",
     "output_type": "stream",
     "text": [
      "\u001b[32m\u001b[1m  Activating\u001b[22m\u001b[39m environment at `~/MEGA/EMAp/TextFileTools.jl/Project.toml`\n",
      "┌ Info: Precompiling TextFileTools [89460df9-9597-466a-a272-0b57177b2cb0]\n",
      "└ @ Base loading.jl:1342\n"
     ]
    }
   ],
   "source": [
    "using Pkg\n",
    "Pkg.activate(\"../.\")\n",
    "using Revise\n",
    "using BenchmarkTools\n",
    "using TextFileTools"
   ]
  },
  {
   "cell_type": "code",
   "execution_count": 2,
   "id": "038d895a-246e-47d1-aed2-96091f71780b",
   "metadata": {},
   "outputs": [],
   "source": [
    "# svg = read(\"test.svg\",String)\n",
    "# display(\"image/svg+xml\",svg)"
   ]
  },
  {
   "cell_type": "code",
   "execution_count": 3,
   "id": "5ff13484-3871-4c73-bf1e-0b902b3099be",
   "metadata": {},
   "outputs": [],
   "source": [
    "# open(\"test.tex\", \"a+\") do f\n",
    "#     write(f,\"appending to end\")\n",
    "# end\n",
    "# tex = read(\"test.tex\",String)\n",
    "# println(tex)"
   ]
  },
  {
   "cell_type": "code",
   "execution_count": 4,
   "id": "7cfef181-0276-4982-ba19-bcd3d62b0470",
   "metadata": {},
   "outputs": [],
   "source": [
    "# rm(\"test.tex\")\n",
    "# cp(\"testbackup.tex\", \"test.tex\")\n",
    "# insertline(\"test.tex\",\"Insert This\", 1, position=:above)\n",
    "# insertline(\"test.tex\",\"Insert This now\", :last, position=:below)\n",
    "# insertline(\"test.tex\",\"ADD LINE AT THE END\", :last)\n",
    "# # writetext(\"test.tex\",\"THIS EXTRA COMMENT\",3, Inf)\n",
    "# tex = read(\"test.tex\",String)\n",
    "# println(tex)"
   ]
  },
  {
   "cell_type": "code",
   "execution_count": 6,
   "id": "3a86660d-38af-476b-bf61-4ed98a8c0aba",
   "metadata": {},
   "outputs": [
    {
     "name": "stdout",
     "output_type": "stream",
     "text": [
      "read(f, String) = \"?\"\n",
      "read(buf, String) = \"\"\n",
      "23456789abc\n",
      "number ofá\n",
      "ã P \"o\" `o\n",
      "À à ,;/.\\??\n"
     ]
    }
   ],
   "source": [
    "file = \"small.txt\"\n",
    "# rm(file)\n",
    "small = \"123456789abc\\nnumber ofá\\nã P \\\"o\\\" `o\\nÀ à ,;/.\\\\?\"\n",
    "open(file, \"w\") do f\n",
    "    write(f, small)\n",
    "end\n",
    "f = open(file, \"r+\");\n",
    "# if at == Inf\n",
    "#     skiplines(f, linenumber);\n",
    "#     skip(f, -1)\n",
    "# else\n",
    "#     skiplines(f, linenumber - 1);\n",
    "#     skip\n",
    "# end\n",
    "skip(f, 0)\n",
    "mark(f)\n",
    "buf = IOBuffer()\n",
    "skip(f, 1)\n",
    "write(buf, f)\n",
    "seekstart(buf)\n",
    "reset(f)\n",
    "# print(f, \"D\");\n",
    "write(f, buf)\n",
    "\n",
    "\n",
    "@show read(f, String)\n",
    "@show read(buf,String) \n",
    "close(buf)\n",
    "close(f)\n",
    "tex = read(file,String)\n",
    "println(tex)"
   ]
  },
  {
   "cell_type": "code",
   "execution_count": 116,
   "id": "2576ec04-3036-47fc-b6ce-2ec128efacd3",
   "metadata": {},
   "outputs": [],
   "source": []
  },
  {
   "cell_type": "code",
   "execution_count": 21,
   "id": "a6ea5341-484a-4d0e-86bf-8565f0a2d042",
   "metadata": {},
   "outputs": [
    {
     "data": {
      "text/plain": [
       "2"
      ]
     },
     "execution_count": 21,
     "metadata": {},
     "output_type": "execute_result"
    }
   ],
   "source": [
    "write(f,\"ok\")"
   ]
  },
  {
   "cell_type": "code",
   "execution_count": 123,
   "id": "e79a9919-741d-4b27-8614-63920748a375",
   "metadata": {},
   "outputs": [
    {
     "name": "stdout",
     "output_type": "stream",
     "text": [
      "TDsting th\n",
      "number ofá\n",
      "ã P \"o\" `o\n",
      "À à ,;/.\\?\n"
     ]
    }
   ],
   "source": [
    "tex = read(file,String)\n",
    "println(tex)"
   ]
  },
  {
   "cell_type": "code",
   "execution_count": null,
   "id": "7a710719-3590-4083-98db-a3c002404f2a",
   "metadata": {},
   "outputs": [],
   "source": []
  },
  {
   "cell_type": "code",
   "execution_count": null,
   "id": "6cc0bb6f-3e46-49a8-9337-0a85df85aa46",
   "metadata": {},
   "outputs": [],
   "source": []
  },
  {
   "cell_type": "code",
   "execution_count": 13,
   "id": "13794747-aec6-4d41-96d3-70357db60a0b",
   "metadata": {},
   "outputs": [
    {
     "name": "stdout",
     "output_type": "stream",
     "text": [
      "In$ert This\n",
      "156789abc\n",
      "number ofá\n",
      "ã P \"o\" `o\n",
      "À à ,;/.\\?.\\?\n"
     ]
    }
   ],
   "source": [
    "file = \"small.txt\"\n",
    "rm(file)\n",
    "small = \"123456789abc\\nnumber ofá\\nã P \\\"o\\\" `o\\nÀ à ,;/.\\\\?\"\n",
    "\n",
    "open(file, \"w\") do f\n",
    "    write(f, small)\n",
    "end\n",
    "\n",
    "insertline!(file,\"InsertThis\", 1, position=:above)\n",
    "writetext!(file,\"\\$\",1,at=3,method=:insert)\n",
    "writetext!(file,\" \",1,at=7,method=:append)\n",
    "# insertline(file,\"Insert This now\", 4, position=:below)\n",
    "# insertline(file,\"ADD LINE AT THE END\", :last)\n",
    "# insertline(file,\"ADD LINE AT THE END\", :last)\n",
    "# insertline(file,\"ADD LINE AT THE END\", :last)\n",
    "deletetext!(file, 3, 2,at=2)\n",
    "\n",
    "# writetext(file,\"\\tTHIS EXTRA COMMENT\",3, at=Inf)\n",
    "# writetext(file,\"THIS EXTRA COMMENT\\t\",3, at=1)\n",
    "# writetext(file,\"END\",:last)\n",
    "# writetext(file,\"END\",4)\n",
    "tex = read(file,String)\n",
    "println(tex)"
   ]
  },
  {
   "cell_type": "code",
   "execution_count": 15,
   "id": "09043e2c-2567-4452-bb06-b6faf90d4f13",
   "metadata": {},
   "outputs": [
    {
     "data": {
      "text/plain": [
       "3"
      ]
     },
     "execution_count": 15,
     "metadata": {},
     "output_type": "execute_result"
    }
   ],
   "source": [
    "write(\"test.tex\",\"NAO\")"
   ]
  },
  {
   "cell_type": "code",
   "execution_count": 43,
   "id": "8bc10e71-aa84-42bb-a3bb-4fbdc9202b20",
   "metadata": {},
   "outputs": [
    {
     "data": {
      "text/plain": [
       "4"
      ]
     },
     "execution_count": 43,
     "metadata": {},
     "output_type": "execute_result"
    }
   ],
   "source": []
  },
  {
   "cell_type": "code",
   "execution_count": 15,
   "id": "6bbc2de4-5f48-467f-a377-2d520db6c875",
   "metadata": {},
   "outputs": [
    {
     "data": {
      "text/plain": [
       "44"
      ]
     },
     "execution_count": 15,
     "metadata": {},
     "output_type": "execute_result"
    }
   ],
   "source": [
    "small = read(\"small.txt\", String)\n",
    "length(small)"
   ]
  },
  {
   "cell_type": "code",
   "execution_count": 18,
   "id": "748328f3-ef6e-4431-8781-bbe98d8727f6",
   "metadata": {},
   "outputs": [
    {
     "data": {
      "text/plain": [
       "44"
      ]
     },
     "execution_count": 18,
     "metadata": {},
     "output_type": "execute_result"
    }
   ],
   "source": [
    "length(read(\"small.txt\", String))"
   ]
  }
 ],
 "metadata": {
  "kernelspec": {
   "display_name": "JuliaFlux 1.6.3",
   "language": "julia",
   "name": "juliaflux-1.6"
  },
  "language_info": {
   "file_extension": ".jl",
   "mimetype": "application/julia",
   "name": "julia",
   "version": "1.6.3"
  }
 },
 "nbformat": 4,
 "nbformat_minor": 5
}
