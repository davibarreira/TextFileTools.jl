{
 "cells": [
  {
   "cell_type": "code",
   "execution_count": 1,
   "id": "f8f5f374-5015-4ab3-8b5c-c7749e9ee1ee",
   "metadata": {},
   "outputs": [
    {
     "name": "stderr",
     "output_type": "stream",
     "text": [
      "\u001b[32m\u001b[1m  Activating\u001b[22m\u001b[39m environment at `~/MEGA/EMAp/TextFileTools.jl/Project.toml`\n",
      "┌ Info: Precompiling TextFileTools [89460df9-9597-466a-a272-0b57177b2cb0]\n",
      "└ @ Base loading.jl:1342\n"
     ]
    }
   ],
   "source": [
    "using Pkg\n",
    "Pkg.activate(\"../.\")\n",
    "using Revise\n",
    "using BenchmarkTools\n",
    "using TextFileTools"
   ]
  },
  {
   "cell_type": "code",
   "execution_count": 4,
   "id": "038d895a-246e-47d1-aed2-96091f71780b",
   "metadata": {},
   "outputs": [],
   "source": [
    "# svg = read(\"test.svg\",String)\n",
    "# display(\"image/svg+xml\",svg)"
   ]
  },
  {
   "cell_type": "code",
   "execution_count": 2,
   "id": "5ff13484-3871-4c73-bf1e-0b902b3099be",
   "metadata": {},
   "outputs": [
    {
     "name": "stdout",
     "output_type": "stream",
     "text": [
      "%! TeX program = lualatex\n",
      "\\documentclass[12pt, oneside]{book}\n",
      "\n",
      "\\usepackage{listings}\n",
      "\n",
      "\\pagestyle{plain}\n",
      "\\usepackage{pdfpages}\n",
      "\\usepackage{titlesec}\n",
      "\n",
      "\\usepackage[square,numbers]{natbib}\n",
      "\\usepackage[pdftex,bookmarks=true,bookmarksopen=false,bookmarksnumbered=true,colorlinks=true,linkcolor=blue]{hyperref}\n",
      "\\usepackage[utf8]{inputenc}\n",
      "\\usepackage{float}\n",
      "\\usepackage{enumerate}\n",
      "\n",
      "%%%%%%% JULIA %%%%%%%%%%\n",
      "\\input{julia_font}\n",
      "\\input{julia_listings}\n",
      "\\input{julia_listings}\n",
      "\\input{julia_listings_unicode}\n",
      "\n",
      "\\lstdefinelanguage{JuliaLocal}{\n",
      "    language = Julia, % inherit Julia lang. to add keywords\n",
      "    morekeywords = [3]{thompson_sampling}, % define more functions\n",
      "    morekeywords = [2]{Beta, Distributions}, % define more types and modules\n",
      "}\n",
      "%%%%%%%%%%%%%%%%%%%%%%%%\n",
      "\n",
      "\n",
      "%%%%%%%%%% BOOK INFORMATION %%%%%%%%%%\n",
      "\\newcommand{\\authorname}{Name}\n",
      "\\newcommand{\\booktitle}{Title}\n",
      "\\newcommand{\\subtitle}{Subtitle}\n",
      "\\newcommand{\\publisher}{TBD}\n",
      "\\newcommand{\\editionyear}{2021}\n",
      "\\newcommand{\\isbn}{XYZ}   % replace this with your own ISBN\n",
      "\n",
      "\\title{\\booktitle}\n",
      "\\author{\\authorname}\n",
      "\n",
      "%%%%%%%%%%%%%%%%%%%%%%%%%%%%%%%%%%%%%%\n",
      "\n",
      "\n",
      "\\begin{document}\n",
      "\n",
      "% \\includepdf{cover.pdf}\n",
      "\n",
      "\\frontmatter\n",
      "\\input{frontmatter/titlepage}\n",
      "\\input{frontmatter/copyright}\n",
      "% \\include{preface}\n",
      "\n",
      "\\newpage\n",
      "\\tableofcontents\n",
      "\n",
      "\\mainmatter\n",
      "\\newpage\n",
      "% INCLUDE NOTEBOOKS HERE %\n",
      "\\include{./notebooks/examplepluto}\n",
      "\n",
      "\\bibliography{ref}\n",
      "\n",
      "\\bibliographystyle{plainnat}\n",
      "\n",
      "\\include{appendix}\n",
      "\n",
      "\\end{document}\n",
      "appending to end\n"
     ]
    }
   ],
   "source": [
    "open(\"test.tex\", \"a+\") do f\n",
    "    write(f,\"appending to end\")\n",
    "end\n",
    "tex = read(\"test.tex\",String)\n",
    "println(tex)"
   ]
  },
  {
   "cell_type": "code",
   "execution_count": 3,
   "id": "7cfef181-0276-4982-ba19-bcd3d62b0470",
   "metadata": {},
   "outputs": [
    {
     "name": "stdout",
     "output_type": "stream",
     "text": [
      "%! TeX program = lualatex\n",
      "\\documentclass[12pt, oneside]{book}\n",
      "\n",
      "\\usepackage{listings}\n",
      "\n",
      "\\pagestyle{plain}\n",
      "\\usepackage{pdfpages}\n",
      "\\usepackage{titlesec}\n",
      "\n",
      "\\usepackage[square,numbers]{natbib}\n",
      "\\usepackage[pdftex,bookmarks=true,bookmarksopen=false,bookmarksnumbered=true,colorlinks=true,linkcolor=blue]{hyperref}\n",
      "\\usepackage[utf8]{inputenc}\n",
      "\\usepackage{float}\n",
      "\\usepackage{enumerate}\n",
      "\n",
      "%%%%%%% JULIA %%%%%%%%%%\n",
      "\\input{julia_font}\n",
      "\\input{julia_listings}\n",
      "\\input{julia_listings}\n",
      "\\input{julia_listings_unicode}\n",
      "\n",
      "\\lstdefinelanguage{JuliaLocal}{\n",
      "    language = Julia, % inherit Julia lang. to add keywords\n",
      "    morekeywords = [3]{thompson_sampling}, % define more functions\n",
      "    morekeywords = [2]{Beta, Distributions}, % define more types and modules\n",
      "}\n",
      "%%%%%%%%%%%%%%%%%%%%%%%%\n",
      "\n",
      "\n",
      "%%%%%%%%%% BOOK INFORMATION %%%%%%%%%%\n",
      "\\newcommand{\\authorname}{Name}\n",
      "\\newcommand{\\booktitle}{Title}\n",
      "\\newcommand{\\subtitle}{Subtitle}\n",
      "\\newcommand{\\publisher}{TBD}\n",
      "\\newcommand{\\editionyear}{2021}\n",
      "\\newcommand{\\isbn}{XYZ}   % replace this with your own ISBN\n",
      "\n",
      "\\title{\\booktitle}\n",
      "\\author{\\authorname}\n",
      "\n",
      "%%%%%%%%%%%%%%%%%%%%%%%%%%%%%%%%%%%%%%\n",
      "\n",
      "\n",
      "\\begin{document}\n",
      "\n",
      "% \\includepdf{cover.pdf}\n",
      "\n",
      "\\frontmatter\n",
      "\\input{frontmatter/titlepage}\n",
      "\\input{frontmatter/copyright}\n",
      "% \\include{preface}\n",
      "\n",
      "\\newpage\n",
      "\\tableofcontents\n",
      "\n",
      "\\mainmatter\n",
      "\\newpage\n",
      "% INCLUDE NOTEBOOKS HERE %\n",
      "\\include{./notebooks/examplepluto}\n",
      "\n",
      "\\bibliography{ref}\n",
      "\n",
      "\\bibliographystyle{plainnat}\n",
      "\n",
      "\\include{appendix}\n",
      "\n",
      "\\end{document}\n",
      "\n"
     ]
    }
   ],
   "source": [
    "rm(\"test.tex\")\n",
    "cp(\"testbackup.tex\", \"test.tex\")\n",
    "# insertline(\"test.tex\",\"Insert This\", 1, method=:above)\n",
    "# insertline(\"test.tex\",\"Insert This now\", :last, method=:below)\n",
    "# insertline(\"test.tex\",\"ADD LINE AT THE END\", :last)\n",
    "# writetext(\"test.tex\",\"THIS EXTRA COMMENT\",3, Inf)\n",
    "tex = read(\"test.tex\",String)\n",
    "println(tex)"
   ]
  },
  {
   "cell_type": "code",
   "execution_count": 30,
   "id": "578aa6f6-e361-4286-b9fb-47a07ff75c78",
   "metadata": {},
   "outputs": [
    {
     "data": {
      "text/plain": [
       "3"
      ]
     },
     "execution_count": 30,
     "metadata": {},
     "output_type": "execute_result"
    }
   ],
   "source": [
    "function printlncount(file)\n",
    "    println(countlines(file))\n",
    "end\n",
    "function nbcountlines(file::String; limit=10_000)\n",
    "    io = open(file, \"r\");\n",
    "    i = 0\n",
    "    while i <= limit\n",
    "        if eof(io)\n",
    "            break\n",
    "        end\n",
    "        i += read(io, Char) === '\\n'\n",
    "    end\n",
    "    close(io)\n",
    "    return i\n",
    "end\n",
    "\n",
    "nbcountlines(file)"
   ]
  },
  {
   "cell_type": "code",
   "execution_count": 6,
   "id": "3a86660d-38af-476b-bf61-4ed98a8c0aba",
   "metadata": {},
   "outputs": [
    {
     "data": {
      "text/plain": [
       "4"
      ]
     },
     "execution_count": 6,
     "metadata": {},
     "output_type": "execute_result"
    }
   ],
   "source": [
    "countlines(file)"
   ]
  },
  {
   "cell_type": "code",
   "execution_count": 36,
   "id": "13794747-aec6-4d41-96d3-70357db60a0b",
   "metadata": {},
   "outputs": [
    {
     "name": "stdout",
     "output_type": "stream",
     "text": [
      "Testing th\n",
      "number ofá\n",
      "ã P \"o\" `o\n",
      "À à ,;/.\\?\n"
     ]
    }
   ],
   "source": [
    "file = \"small.txt\"\n",
    "rm(file)\n",
    "small = \"Testing th\\nnumber ofá\\nã P \\\"o\\\" `o\\nÀ à ,;/.\\\\?\"\n",
    "\n",
    "open(file, \"w\") do f\n",
    "    write(f, small)\n",
    "end\n",
    "\n",
    "# insertline(file,\"Insert This\", 1, method=:above)\n",
    "# insertline(file,\"Insert This now\", 4, method=:below)\n",
    "# insertline(file,\"ADD LINE AT THE END\", :last)\n",
    "# insertline(file,\"ADD LINE AT THE END\", :last)\n",
    "# insertline(file,\"ADD LINE AT THE END\", :last)\n",
    "\n",
    "# writetext(file,\"\\tTHIS EXTRA COMMENT\",3, at=Inf)\n",
    "# writetext(file,\"THIS EXTRA COMMENT\\t\",3, at=1)\n",
    "# writetext(file,\"END\",:last)\n",
    "# writetext(file,\"END\",4)\n",
    "tex = read(file,String)\n",
    "println(tex)"
   ]
  },
  {
   "cell_type": "code",
   "execution_count": 43,
   "id": "8bc10e71-aa84-42bb-a3bb-4fbdc9202b20",
   "metadata": {},
   "outputs": [
    {
     "data": {
      "text/plain": [
       "4"
      ]
     },
     "execution_count": 43,
     "metadata": {},
     "output_type": "execute_result"
    }
   ],
   "source": []
  },
  {
   "cell_type": "code",
   "execution_count": 15,
   "id": "6bbc2de4-5f48-467f-a377-2d520db6c875",
   "metadata": {},
   "outputs": [
    {
     "data": {
      "text/plain": [
       "44"
      ]
     },
     "execution_count": 15,
     "metadata": {},
     "output_type": "execute_result"
    }
   ],
   "source": [
    "small = read(\"small.txt\", String)\n",
    "length(small)"
   ]
  },
  {
   "cell_type": "code",
   "execution_count": 18,
   "id": "748328f3-ef6e-4431-8781-bbe98d8727f6",
   "metadata": {},
   "outputs": [
    {
     "data": {
      "text/plain": [
       "44"
      ]
     },
     "execution_count": 18,
     "metadata": {},
     "output_type": "execute_result"
    }
   ],
   "source": [
    "length(read(\"small.txt\", String))"
   ]
  }
 ],
 "metadata": {
  "kernelspec": {
   "display_name": "JuliaFlux 1.6.3",
   "language": "julia",
   "name": "juliaflux-1.6"
  },
  "language_info": {
   "file_extension": ".jl",
   "mimetype": "application/julia",
   "name": "julia",
   "version": "1.6.3"
  }
 },
 "nbformat": 4,
 "nbformat_minor": 5
}
